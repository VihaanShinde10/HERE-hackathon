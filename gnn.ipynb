{
  "nbformat": 4,
  "nbformat_minor": 0,
  "metadata": {
    "colab": {
      "provenance": []
    },
    "kernelspec": {
      "name": "python3",
      "display_name": "Python 3"
    },
    "language_info": {
      "name": "python"
    }
  },
  "cells": [
    {
      "cell_type": "code",
      "source": [
        "pip install geopandas networkx torch torch-geometric tqdm\n"
      ],
      "metadata": {
        "id": "tGo8zOq1wlC9"
      },
      "execution_count": null,
      "outputs": []
    },
    {
      "cell_type": "code",
      "execution_count": null,
      "metadata": {
        "id": "zwk73BHawh8I"
      },
      "outputs": [],
      "source": [
        "import geopandas as gpd\n",
        "import networkx as nx\n",
        "import torch\n",
        "from torch_geometric.data import Data\n",
        "from torch_geometric.nn import GCNConv\n",
        "import torch.nn.functional as F\n",
        "from shapely.geometry import Point, LineString\n",
        "import numpy as np\n",
        "from tqdm import tqdm\n",
        "\n",
        "# Step 1: Load Shapefile & Build Graph\n",
        "def shapefile_to_pyg(shapefile_path):\n",
        "    gdf = gpd.read_file(shapefile_path).to_crs(epsg=4326)\n",
        "    G = nx.Graph()\n",
        "    for idx, row in tqdm(gdf.iterrows(), total=gdf.shape[0]):\n",
        "        geom = row.geometry\n",
        "        if isinstance(geom, LineString):\n",
        "            coords = list(geom.coords)\n",
        "            for i in range(len(coords) - 1):\n",
        "                u, v = coords[i], coords[i+1]\n",
        "                for node in [u, v]:\n",
        "                    if node not in G:\n",
        "                        G.add_node(node, x=node[0], y=node[1])\n",
        "                dist = Point(u).distance(Point(v))\n",
        "                G.add_edge(u, v, distance=dist)\n",
        "    node_list = list(G.nodes)\n",
        "    node_indices = {node: i for i, node in enumerate(node_list)}\n",
        "    x = torch.tensor([[G.nodes[node]['x'], G.nodes[node]['y']] for node in node_list], dtype=torch.float)\n",
        "    edge_index = []\n",
        "    edge_attr = []\n",
        "    for u, v, data in G.edges(data=True):\n",
        "        edge_index.append([node_indices[u], node_indices[v]])\n",
        "        edge_index.append([node_indices[v], node_indices[u]])\n",
        "        edge_attr.append([data['distance']])\n",
        "        edge_attr.append([data['distance']])\n",
        "    edge_index = torch.tensor(edge_index, dtype=torch.long).t().contiguous()\n",
        "    edge_attr = torch.tensor(edge_attr, dtype=torch.float)\n",
        "\n",
        "    y = torch.tensor([G.degree[node] for node in node_list], dtype=torch.float).unsqueeze(1)\n",
        "    return Data(x=x, edge_index=edge_index, edge_attr=edge_attr, y=y)\n",
        "\n",
        "# Step 2: Define GCN Model\n",
        "class GCNModel(torch.nn.Module):\n",
        "    def __init__(self, in_channels, hidden_channels, out_channels):\n",
        "        super().__init__()\n",
        "        self.conv1 = GCNConv(in_channels, hidden_channels)\n",
        "        self.conv2 = GCNConv(hidden_channels, out_channels)\n",
        "\n",
        "    def forward(self, x, edge_index):\n",
        "        x = self.conv1(x, edge_index)\n",
        "        x = F.relu(x)\n",
        "        x = self.conv2(x, edge_index)\n",
        "        return x\n",
        "\n",
        "# Step 3: Training Loop\n",
        "def train(model, data, epochs=100, lr=0.01):\n",
        "    optimizer = torch.optim.Adam(model.parameters(), lr=lr)\n",
        "    for epoch in range(epochs):\n",
        "        model.train()\n",
        "        optimizer.zero_grad()\n",
        "        out = model(data.x, data.edge_index)\n",
        "        loss = F.mse_loss(out, data.y)\n",
        "        loss.backward()\n",
        "        optimizer.step()\n",
        "        if (epoch+1) % 10 == 0 or epoch == 0:\n",
        "            print(f\"Epoch {epoch+1}: Loss = {loss.item():.4f}\")\n",
        "\n",
        "# Step 4: Putting It All Together\n",
        "if __name__ == \"__main__\":\n",
        "    shapefile_path = 'your_shapefile.shp'\n",
        "    data = shapefile_to_pyg(shapefile_path)\n",
        "    model = GCNModel(in_channels=2, hidden_channels=16, out_channels=1)\n",
        "    train(model, data, epochs=50, lr=0.01)\n",
        "    # Inference\n",
        "    model.eval()\n",
        "    predictions = model(data.x, data.edge_index).detach()\n",
        "    print(\"\\nSample Predictions (first 5 nodes):\")\n",
        "    print(predictions[:5])\n"
      ]
    }
  ]
}